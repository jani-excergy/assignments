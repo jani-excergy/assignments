{
 "cells": [
  {
   "cell_type": "markdown",
   "metadata": {},
   "source": [
    "## Question 2\n"
   ]
  },
  {
   "cell_type": "code",
   "execution_count": 1,
   "metadata": {},
   "outputs": [
    {
     "name": "stdout",
     "output_type": "stream",
     "text": [
      " Enter a word : ineuron\n"
     ]
    },
    {
     "data": {
      "text/plain": [
       "'norueni'"
      ]
     },
     "execution_count": 1,
     "metadata": {},
     "output_type": "execute_result"
    }
   ],
   "source": [
    "# Write a Python program to reverse a word after accepting the input from the user.\n",
    "\n",
    "# Taking input from user \n",
    "user_input=input(\" Enter a word : \")\n",
    "\n",
    "# Using string slicing we can reverse the word \n",
    "\n",
    "user_input[::-1]"
   ]
  },
  {
   "cell_type": "markdown",
   "metadata": {},
   "source": [
    "## Question 1"
   ]
  },
  {
   "cell_type": "code",
   "execution_count": 31,
   "metadata": {},
   "outputs": [
    {
     "name": "stdout",
     "output_type": "stream",
     "text": [
      "Enter no of row's : 5\n",
      " \n",
      "*  \n",
      "* *  \n",
      "* * *  \n",
      "* * * *  \n",
      "* * * * *  \n",
      "* * * *  \n",
      "* * *  \n",
      "* *  \n",
      "*  \n"
     ]
    }
   ],
   "source": [
    "# Printing pattern in \n",
    "\n",
    "# no of rows taking from user\n",
    "\n",
    "rows =int(input(\"Enter no of row's : \"))\n",
    "\n",
    "# nested for loop for printing upper right angle triangle\n",
    "\n",
    "# for loop rows\n",
    "for row in range(rows):\n",
    "    # for loop for columns\n",
    "    for column in range(row):\n",
    "        print('*', end=\" \") \n",
    "    print(\" \")\n",
    "\n",
    "# nested for loop for printing reverse/lower right angle triangle\n",
    "\n",
    "#for loop for rows\n",
    "for row in range(rows, 0, -1):\n",
    "    # for loop for columns\n",
    "    for column in range(0, row):\n",
    "        print('*', end=' ')\n",
    "    print(\" \")\n",
    "            "
   ]
  },
  {
   "cell_type": "code",
   "execution_count": null,
   "metadata": {},
   "outputs": [],
   "source": []
  },
  {
   "cell_type": "code",
   "execution_count": null,
   "metadata": {},
   "outputs": [],
   "source": [
    "\n"
   ]
  },
  {
   "cell_type": "code",
   "execution_count": null,
   "metadata": {},
   "outputs": [],
   "source": []
  }
 ],
 "metadata": {
  "kernelspec": {
   "display_name": "Python 3",
   "language": "python",
   "name": "python3"
  },
  "language_info": {
   "codemirror_mode": {
    "name": "ipython",
    "version": 3
   },
   "file_extension": ".py",
   "mimetype": "text/x-python",
   "name": "python",
   "nbconvert_exporter": "python",
   "pygments_lexer": "ipython3",
   "version": "3.6.10"
  }
 },
 "nbformat": 4,
 "nbformat_minor": 4
}
